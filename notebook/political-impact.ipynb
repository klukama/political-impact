{
 "cells": [
  {
   "cell_type": "code",
   "execution_count": 71,
   "metadata": {
    "collapsed": true
   },
   "outputs": [],
   "source": [
    "import io\n",
    "import re\n",
    "from collections import Counter\n",
    "\n",
    "import mysql.connector\n",
    "import pdfplumber\n",
    "import requests\n",
    "from bs4 import BeautifulSoup\n",
    "from spacy import load\n",
    "from datetime import date\n",
    "import warnings"
   ]
  },
  {
   "cell_type": "code",
   "execution_count": 77,
   "outputs": [],
   "source": [
    "# Print iterations progress\n",
    "# source: https://stackoverflow.com/questions/3173320/text-progress-bar-in-terminal-with-block-characters?noredirect=1&lq=1\n",
    "def print_progress_bar(iteration, total, prefix='', suffix='Complete', decimals=1, length=100, fill='█', printEnd=\"\\r\"):\n",
    "    \"\"\"\n",
    "    Call in a loop to create terminal progress bar\n",
    "    @params:\n",
    "        iteration   - Required  : current iteration (Int)\n",
    "        total       - Required  : total iterations (Int)\n",
    "        prefix      - Optional  : prefix string (Str)\n",
    "        suffix      - Optional  : suffix string (Str)\n",
    "        decimals    - Optional  : positive number of decimals in percent complete (Int)\n",
    "        length      - Optional  : character length of bar (Int)\n",
    "        fill        - Optional  : bar fill character (Str)\n",
    "        printEnd    - Optional  : end character (e.g. \"\\r\", \"\\r\\n\") (Str)\n",
    "    \"\"\"\n",
    "    percent = (\"{0:.\" + str(decimals) + \"f}\").format(100 * (iteration / float(total)))\n",
    "    filledLength = int(length * iteration // total)\n",
    "    bar = fill * filledLength + '-' * (length - filledLength)\n",
    "    print(f'\\r{prefix} |{bar}| {percent}% {suffix}', end=printEnd)\n",
    "    # Print New Line on Complete\n",
    "    if iteration == total:\n",
    "        print()\n",
    "\n",
    "\n",
    "def get_protocol_link_from_website(url: str):\n",
    "    # https://www.parlament.gv.at/PAKT/VHG/XXVII/NRSITZ/NRSITZ_00113/#tab-Sten.Protokoll\n",
    "    content = requests.get(url).content.decode('utf-8')\n",
    "    soup = BeautifulSoup(content, 'html.parser')\n",
    "    anchors = soup.find_all('a', href=True)\n",
    "    for anchor in anchors:\n",
    "        if len(anchor.contents) >= 2:\n",
    "            if 'Stenographisches Protokoll' in anchor.contents[1]:\n",
    "                return 'https://www.parlament.gv.at' + anchor['href']\n",
    "\n",
    "\n",
    "def get_text_from_online_pdf(url: str):\n",
    "    \"\"\"Extract text from a pdf from a given url. Returns a string\"\"\"\n",
    "\n",
    "    response = io.BytesIO(requests.get(url).content)\n",
    "    return get_text_from_bytes(response)\n",
    "\n",
    "\n",
    "def get_text_from_bytes(bytes: io.BytesIO):\n",
    "    \"\"\"Extract text from a pdf which is in a BytesIO format. Returns a string\"\"\"\n",
    "\n",
    "    text = ''\n",
    "\n",
    "    with pdfplumber.open(bytes) as pdf:\n",
    "        for page in pdf.pages:\n",
    "            #print(page.page_number)\n",
    "            print_progress_bar(page.page_number, len(pdf.pages), 'Extracting text:')\n",
    "            text += page.extract_text()\n",
    "    return text\n",
    "\n",
    "\n",
    "def get_speech_positions(text: str):\n",
    "    \"\"\"Gets all positions of speeches in the text. A speech is defined as the text between two time specifications.\"\"\"\n",
    "    matches = re.finditer('[0-2]?[0-9]\\.[0-5][0-9] \\n', text)\n",
    "    matches_list = [item for item in matches]\n",
    "    # TODO: muss da -1?\n",
    "    positions = [(matches_list[idx].end(), matches_list[idx + 1].start()) for idx in range(0, len(matches_list) - 1, 2)]\n",
    "    return positions\n",
    "\n",
    "\n",
    "def prepare_text(text: str, positions: list((int, int))):\n",
    "    all_text = ''\n",
    "    # Load spacy model for stopwords\n",
    "    nlp = load('de_core_news_sm')\n",
    "    for pos in positions:\n",
    "        # Get speech between the specified time\n",
    "        speech = text[pos[0]:pos[1]]\n",
    "\n",
    "        # Remove headers\n",
    "        speech = re.sub(' \\d*? .* Nationalrat, ?.* ?\\n?.*', '', speech)\n",
    "        speech = re.sub('Nationalrat, ?.* ?\\n?.*', '', speech)\n",
    "\n",
    "        # Merge words separated by a line-break\n",
    "        speech = re.sub('- ?\\n', '', speech)\n",
    "        speech = re.sub('\\n', '', speech)\n",
    "\n",
    "        # Remove the beginnging of the string e.g. \"Abgeordneter Jon Doe (Blue party):\"\n",
    "        speech = re.sub('Abgeordneter \\D*: ', '', speech)\n",
    "        speech = re.sub('Abgeordnete \\D*: ', '', speech)\n",
    "\n",
    "        # Remove stop words\n",
    "        result = [word for word in speech.split() if word not in nlp.Defaults.stop_words]\n",
    "        speech = ' '.join(result)\n",
    "\n",
    "        # Remove punctuation\n",
    "        speech = re.sub(r'[^\\w\\s]+', '', speech)\n",
    "\n",
    "        all_text += speech\n",
    "\n",
    "    return all_text\n",
    "\n",
    "\n",
    "def extract_date(text: str):\n",
    "    # Get first date string\n",
    "    date_obj = re.search('\\D* [12]?[0-9]. \\D* [12][09][0-9][0-9]', text).group(0)\n",
    "    # Remove weekday\n",
    "    date_obj = date_obj.split(',')[-1].strip()\n",
    "    # Split into day, month, and year\n",
    "    date_obj = date_obj.split(' ')\n",
    "    day = date_obj[0].strip('.')\n",
    "    month = months[date_obj[1]]\n",
    "    year = date_obj[2]\n",
    "    full_date = f'{year}-{month}-{day}'\n",
    "    warnings.warn(full_date)\n",
    "    return full_date\n",
    "\n",
    "\n",
    "def save_to_database(word_counts: dict, db_connection: mysql.connector, date_str: str):\n",
    "    if len(list(word_counts.items())) <= 0:\n",
    "        warnings.warn('Protocol doesn\\'t contain any speeches')\n",
    "        return\n",
    "\n",
    "    cursor = db_connection.cursor()\n",
    "\n",
    "    #cursor.execute('SELECT * FROM WORD_COUNTS')\n",
    "    #result = dict(cursor.fetchall())\n",
    "\n",
    "    #for word in word_counts:\n",
    "    #    if word in list(result.keys()):\n",
    "    #        result[word] += word_counts[word]\n",
    "    #    else:\n",
    "    #        result[word] = word_counts[word]\n",
    "\n",
    "    #cursor.execute('TRUNCATE TABLE WORD_COUNTS')\n",
    "\n",
    "    sql = 'INSERT INTO WORD_COUNTS (WORD, COUNT, DATE) VALUES (%s, %s, %s)'\n",
    "    values = [item + (date_str, ) for item in word_counts.items()]\n",
    "    #print(values)\n",
    "    cursor.executemany(sql, values)\n",
    "\n",
    "    db.commit()\n",
    "\n",
    "    print(cursor.rowcount, \"lines were inserted\")"
   ],
   "metadata": {
    "collapsed": false,
    "pycharm": {
     "name": "#%%\n"
    }
   }
  },
  {
   "cell_type": "code",
   "execution_count": 78,
   "outputs": [
    {
     "name": "stdout",
     "output_type": "stream",
     "text": [
      "Extracting text: |████████████████████████████████████████████████████████████████████████████████████████████████████| 100.0% Complete\r\n"
     ]
    },
    {
     "name": "stderr",
     "output_type": "stream",
     "text": [
      "C:\\Users\\Markus\\anaconda3\\lib\\site-packages\\ipykernel_launcher.py:108: UserWarning: 2019-10-23\n"
     ]
    },
    {
     "name": "stdout",
     "output_type": "stream",
     "text": [
      "2135 lines were inserted\n",
      "Extracting text: |████████████████████████████████████████████████████████████████████████████████████████████████████| 100.0% Complete\r\n"
     ]
    },
    {
     "name": "stderr",
     "output_type": "stream",
     "text": [
      "C:\\Users\\Markus\\anaconda3\\lib\\site-packages\\ipykernel_launcher.py:114: UserWarning: Protocol doesn't contain any speeches\n"
     ]
    },
    {
     "name": "stdout",
     "output_type": "stream",
     "text": [
      "Extracting text: |████████████████████████████████████████████████████████████████████████████████████████████████████| 100.0% Complete\r\n"
     ]
    },
    {
     "name": "stderr",
     "output_type": "stream",
     "text": [
      "C:\\Users\\Markus\\anaconda3\\lib\\site-packages\\ipykernel_launcher.py:108: UserWarning: 2019-11-13\n"
     ]
    },
    {
     "name": "stdout",
     "output_type": "stream",
     "text": [
      "5308 lines were inserted\n",
      "Extracting text: |████████████████████████████████████████████████████████████████████████████████████████████████████| 100.0% Complete\r\n"
     ]
    }
   ],
   "source": [
    "db = mysql.connector.connect(\n",
    "    host=\"localhost\",\n",
    "    user=\"htl\",\n",
    "    password=\"insy\",\n",
    "    database='politics'\n",
    ")\n",
    "cursor = db.cursor()\n",
    "cursor.execute('TRUNCATE TABLE WORD_COUNTS')\n",
    "db.commit()\n",
    "#cursor.execute('TRUNCATE TABLE WORD_COUNTS')\n",
    "#url = 'https://www.parlament.gv.at/PAKT/VHG/XXVII/NRSITZ/NRSITZ_00113/fname_1009194.pdf'\n",
    "# nicht gut! --> https://www.parlament.gv.at/PAKT/VHG/XXVII/NRSITZ/NRSITZ_00069/fname_936634.pdf\n",
    "# inkl. 0; exkl. 107\n",
    "for idx in range(1, 5):\n",
    "    # fill with zeros\n",
    "    nr = str(idx).zfill(5)\n",
    "    url = f'https://www.parlament.gv.at/PAKT/VHG/XXVII/NRSITZ/NRSITZ_{nr}/#tab-Sten.Protokoll'\n",
    "\n",
    "    link = get_protocol_link_from_website(url)\n",
    "    text = get_text_from_online_pdf(link)\n",
    "    positions = get_speech_positions(text)\n",
    "    all_text = prepare_text(text, positions)\n",
    "    c = Counter([word.strip() for word in all_text.split()])\n",
    "    #print(dict(c))\n",
    "    date_str = extract_date(text)\n",
    "    save_to_database(dict(c), db, date_str)\n",
    "    #break"
   ],
   "metadata": {
    "collapsed": false,
    "pycharm": {
     "name": "#%%\n"
    }
   }
  },
  {
   "cell_type": "code",
   "execution_count": 52,
   "outputs": [],
   "source": [
    "months = {\n",
    "    'Jänner': 1,\n",
    "    'Februar': 2,\n",
    "    'März': 3,\n",
    "    'April': 4,\n",
    "    'Mai': 5,\n",
    "    'Juni': 6,\n",
    "    'Juli': 7,\n",
    "    'August': 8,\n",
    "    'September': 9,\n",
    "    'Oktober': 10,\n",
    "    'November': 11,\n",
    "    'Dezember': 12\n",
    "}"
   ],
   "metadata": {
    "collapsed": false,
    "pycharm": {
     "name": "#%%\n"
    }
   }
  },
  {
   "cell_type": "markdown",
   "source": [
    "db = mysql.connector.connect(\n",
    "    host=\"localhost\",\n",
    "    user=\"htl\",\n",
    "    password=\"insy\",\n",
    "    database='politics'\n",
    ")"
   ],
   "metadata": {
    "collapsed": false,
    "pycharm": {
     "name": "#%% md\n"
    }
   }
  },
  {
   "cell_type": "markdown",
   "source": [
    "cursor.execute('SELECT * FROM WORD_COUNTS')\n",
    "result = dict(cursor.fetchall())\n",
    "print(result)\n",
    "add = {'Ich': 4, 'du': 1}\n",
    "for item in add:\n",
    "    if item in list(result.keys()):\n",
    "        result[item] += add[item]\n",
    "    else:\n",
    "        result[item] = add[item]\n",
    "#print(list(result.keys()))\n",
    "#add['Ich'] = add['Ich'] + 4\n",
    "\n",
    "print(result)\n",
    "#print(result)"
   ],
   "metadata": {
    "collapsed": false,
    "pycharm": {
     "name": "#%% md\n"
    }
   }
  },
  {
   "cell_type": "code",
   "source": [
    "db = mysql.connector.connect(\n",
    "    host=\"localhost\",\n",
    "    user=\"htl\",\n",
    "    password=\"insy\",\n",
    "    database='politics'\n",
    ")\n",
    "cursor = db.cursor()\n",
    "cursor.execute('TRUNCATE TABLE WORD_COUNTS')\n",
    "\n",
    "#cursor.execute('INSERT INTO WORD_COUNTS (WORD, COUNT) VALUES (\"Ich\", 5)')\n",
    "db.commit()"
   ],
   "metadata": {
    "collapsed": false,
    "pycharm": {
     "name": "#%%\n"
    }
   },
   "execution_count": 65,
   "outputs": []
  },
  {
   "cell_type": "code",
   "execution_count": 39,
   "outputs": [],
   "source": [
    "db.commit()"
   ],
   "metadata": {
    "collapsed": false,
    "pycharm": {
     "name": "#%%\n"
    }
   }
  },
  {
   "cell_type": "code",
   "source": [
    "cursor.execute('DROP TABLE WORD_COUNTS;')\n",
    "cursor.execute(\n",
    "    'CREATE TABLE WORD_COUNTS (WORD VARCHAR(255) CHARACTER SET utf8 COLLATE utf8_bin NOT NULL, COUNT INTEGER, DATE DATE);')\n",
    "#cursor.execute('TRUNCATE TABLE WORD_COUNTS')\n",
    "db.commit()"
   ],
   "metadata": {
    "collapsed": false,
    "pycharm": {
     "name": "#%%\n"
    }
   },
   "execution_count": 5,
   "outputs": []
  },
  {
   "cell_type": "code",
   "execution_count": 38,
   "outputs": [],
   "source": [
    "obj = date(2019, 12, 1).strftime('%Y-%m-%d')\n",
    "cursor.execute(f'INSERT INTO WORD_COUNTS (WORD, COUNT, DATE) VALUES (%s, %s, %s)', (\"anna\", 4, obj))"
   ],
   "metadata": {
    "collapsed": false,
    "pycharm": {
     "name": "#%%\n"
    }
   }
  }
 ],
 "metadata": {
  "kernelspec": {
   "display_name": "Python 3",
   "language": "python",
   "name": "python3"
  },
  "language_info": {
   "codemirror_mode": {
    "name": "ipython",
    "version": 2
   },
   "file_extension": ".py",
   "mimetype": "text/x-python",
   "name": "python",
   "nbconvert_exporter": "python",
   "pygments_lexer": "ipython2",
   "version": "2.7.6"
  }
 },
 "nbformat": 4,
 "nbformat_minor": 0
}