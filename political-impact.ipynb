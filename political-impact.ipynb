{
 "cells": [
  {
   "cell_type": "code",
   "execution_count": 10,
   "metadata": {
    "collapsed": true
   },
   "outputs": [],
   "source": [
    "import io\n",
    "import re\n",
    "from collections import Counter\n",
    "\n",
    "import mysql.connector\n",
    "import pdfplumber\n",
    "import requests\n",
    "from spacy import load"
   ]
  },
  {
   "cell_type": "code",
   "execution_count": 18,
   "outputs": [],
   "source": [
    "def get_text_from_pdf(url: str):\n",
    "    \"\"\"Extract text from a pdf from a given url. Returns a string\"\"\"\n",
    "\n",
    "    response = io.BytesIO(requests.get(url).content)\n",
    "    return get_text_from_bytes(response)\n",
    "\n",
    "def get_text_from_bytes(bytes: io.BytesIO):\n",
    "    \"\"\"Extract text from a pdf in a BytesIO format. Returns a string\"\"\"\n",
    "\n",
    "    text = ''\n",
    "\n",
    "    with pdfplumber.open(bytes) as pdf:\n",
    "        for page in pdf.pages:\n",
    "            #print(page.page_number)\n",
    "            text += page.extract_text()\n",
    "    return text\n",
    "\n",
    "def get_speech_positions(text: str):\n",
    "    \"\"\"Gets all positions of speeches in the text. A speech is defined as the text between two time specifications.\"\"\"\n",
    "    matches = re.finditer('[0-2]?[0-9]\\.[0-5][0-9] \\n', text)\n",
    "    matches_list = [item for item in matches]\n",
    "    # TODO: muss da -1?\n",
    "    positions = [(matches_list[idx].end(), matches_list[idx + 1].start()) for idx in range(0, len(matches_list) - 1, 2)]\n",
    "    return positions\n",
    "\n",
    "def prepare_text(text: str, positions: list((int, int))):\n",
    "    all_text = ''\n",
    "    # Load spacy model for stopwords\n",
    "    nlp = load('de_core_news_sm')\n",
    "    for pos in positions:\n",
    "        # Get speech between the specified time\n",
    "        speech = text[pos[0]:pos[1]]\n",
    "\n",
    "        # Remove headers\n",
    "        speech = re.sub(' \\d*? .* Nationalrat, ?.* ?\\n?.*', '', speech)\n",
    "        speech = re.sub('Nationalrat, ?.* ?\\n?.*', '', speech)\n",
    "\n",
    "        # Merge words separated by a line-break\n",
    "        speech = re.sub('- ?\\n', '', speech)\n",
    "        speech = re.sub('\\n', '', speech)\n",
    "\n",
    "        # Remove the beginnging of the string e.g. \"Abgeordneter Jon Doe (Blue party):\"\n",
    "        speech = re.sub('Abgeordneter \\D*: ', '', speech)\n",
    "        speech = re.sub('Abgeordnete \\D*: ', '', speech)\n",
    "\n",
    "        # Remove stop words\n",
    "        result = [word for word in speech.split() if word not in nlp.Defaults.stop_words]\n",
    "        speech = ' '.join(result)\n",
    "\n",
    "        # Remove punctuation\n",
    "        speech = re.sub(r'[^\\w\\s]+','', speech)\n",
    "\n",
    "        all_text += speech\n",
    "\n",
    "    return all_text"
   ],
   "metadata": {
    "collapsed": false,
    "pycharm": {
     "name": "#%%\n"
    }
   }
  },
  {
   "cell_type": "code",
   "execution_count": 19,
   "outputs": [],
   "source": [
    "url = 'https://www.parlament.gv.at/PAKT/VHG/XXVII/NRSITZ/NRSITZ_00113/fname_1009194.pdf'\n",
    "\n",
    "text = get_text_from_pdf(url)\n",
    "positions = get_speech_positions(text)\n",
    "all_text = prepare_text(text, positions)\n"
   ],
   "metadata": {
    "collapsed": false,
    "pycharm": {
     "name": "#%%\n"
    }
   }
  },
  {
   "cell_type": "code",
   "execution_count": 12,
   "outputs": [],
   "source": [
    "db = mysql.connector.connect(\n",
    "    host=\"localhost\",\n",
    "    user=\"htl\",\n",
    "    password=\"insy\",\n",
    "    database='politics'\n",
    ")\n",
    "\n",
    "cursor = db.cursor()"
   ],
   "metadata": {
    "collapsed": false,
    "pycharm": {
     "name": "#%%\n"
    }
   }
  },
  {
   "cell_type": "code",
   "execution_count": null,
   "outputs": [],
   "source": [
    "#cursor.execute('CREATE TABLE WORD_COUNTS (WORD VARCHAR(255), COUNT INTEGER)')"
   ],
   "metadata": {
    "collapsed": false,
    "pycharm": {
     "name": "#%%\n"
    }
   }
  },
  {
   "cell_type": "code",
   "execution_count": 21,
   "outputs": [],
   "source": [
    "cursor.execute('TRUNCATE TABLE WORD_COUNTS')\n",
    "db.commit()"
   ],
   "metadata": {
    "collapsed": false,
    "pycharm": {
     "name": "#%%\n"
    }
   }
  },
  {
   "cell_type": "code",
   "execution_count": 22,
   "outputs": [],
   "source": [
    "c = Counter(all_text.split())\n",
    "#list(c.items())"
   ],
   "metadata": {
    "collapsed": false,
    "pycharm": {
     "name": "#%%\n"
    }
   }
  },
  {
   "cell_type": "code",
   "execution_count": 23,
   "outputs": [
    {
     "name": "stdout",
     "output_type": "stream",
     "text": [
      "6964 lines were inserted\n"
     ]
    }
   ],
   "source": [
    "sql = 'INSERT INTO WORD_COUNTS (WORD, COUNT) VALUES (%s, %s)'\n",
    "values = list(c.items())\n",
    "\n",
    "cursor.executemany(sql, values)\n",
    "\n",
    "db.commit()\n",
    "\n",
    "print(cursor.rowcount, \"lines were inserted\")"
   ],
   "metadata": {
    "collapsed": false,
    "pycharm": {
     "name": "#%%\n"
    }
   }
  }
 ],
 "metadata": {
  "kernelspec": {
   "display_name": "Python 3",
   "language": "python",
   "name": "python3"
  },
  "language_info": {
   "codemirror_mode": {
    "name": "ipython",
    "version": 2
   },
   "file_extension": ".py",
   "mimetype": "text/x-python",
   "name": "python",
   "nbconvert_exporter": "python",
   "pygments_lexer": "ipython2",
   "version": "2.7.6"
  }
 },
 "nbformat": 4,
 "nbformat_minor": 0
}